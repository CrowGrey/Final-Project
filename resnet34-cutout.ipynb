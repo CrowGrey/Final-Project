{
 "metadata": {
  "language_info": {
   "codemirror_mode": {
    "name": "ipython",
    "version": 3
   },
   "file_extension": ".py",
   "mimetype": "text/x-python",
   "name": "python",
   "nbconvert_exporter": "python",
   "pygments_lexer": "ipython3",
   "version": "3.7.6"
  },
  "orig_nbformat": 4,
  "kernelspec": {
   "name": "python3",
   "display_name": "Python 3.7.6 64-bit ('base': conda)"
  },
  "interpreter": {
   "hash": "07efdcd4b820c98a756949507a4d29d7862823915ec7477944641bea022f4f62"
  }
 },
 "nbformat": 4,
 "nbformat_minor": 2,
 "cells": [
  {
   "cell_type": "code",
   "execution_count": 1,
   "metadata": {},
   "outputs": [],
   "source": [
    "import torch\n",
    "import torch.nn as nn\n",
    "import torch.nn.functional as F\n",
    "import torch.optim as optim\n",
    "from torch.utils.tensorboard import SummaryWriter\n",
    "\n",
    "import torchvision\n",
    "import torchvision.transforms as transforms\n",
    "\n",
    "import matplotlib.pyplot as plt\n",
    "import random\n",
    "import numpy as np\n",
    "import os\n",
    "\n",
    "from barbar import Bar\n",
    "%matplotlib inline"
   ]
  },
  {
   "cell_type": "code",
   "execution_count": 2,
   "metadata": {},
   "outputs": [],
   "source": [
    "EPOCH = 30\n",
    "C = 100\n",
    "BATCH = 1024\n",
    "PATH = 'D:/文件/作业/神经网络/期末pj/resnet34-cutout'\n",
    "\n",
    "writer = SummaryWriter(log_dir=PATH)"
   ]
  },
  {
   "cell_type": "code",
   "execution_count": 3,
   "metadata": {},
   "outputs": [],
   "source": [
    "def seed_everything(seed):\n",
    "    random.seed(seed)\n",
    "    os.environ['PYTHONHASHSEED'] = str(seed)\n",
    "    np.random.seed(seed)\n",
    "    torch.manual_seed(seed)\n",
    "    torch.cuda.manual_seed(seed)\n",
    "    torch.backends.cudnn.deterministic = True\n",
    "    torch.backends.cudnn.benchmark = True\n",
    "\n",
    "SEED = 2021\n",
    "seed_everything(SEED)"
   ]
  },
  {
   "cell_type": "code",
   "execution_count": 4,
   "metadata": {},
   "outputs": [],
   "source": [
    "def cutout(batch):\n",
    "    input, target = batch\n",
    "\n",
    "    input_s = torch.zeros_like(input)\n",
    "    lamb = np.random.uniform(0.0, 1.0)\n",
    "\n",
    "    H, W = input.shape[2:]\n",
    "    r_x = np.random.uniform(0, W)\n",
    "    r_y = np.random.uniform(0, H)\n",
    "    r_w = W * np.sqrt(1 - lamb)\n",
    "    r_h = H * np.sqrt(1 - lamb)\n",
    "    x1 = int(np.round(max(r_x - r_w / 2, 0)))\n",
    "    x2 = int(np.round(min(r_x + r_w / 2, W)))\n",
    "    y1 = int(np.round(max(r_y - r_h / 2, 0)))\n",
    "    y2 = int(np.round(min(r_y + r_h / 2, H)))\n",
    "\n",
    "    input[:, :, x1:x2, y1:y2] = input_s[:, :, x1:x2, y1:y2]\n",
    "\n",
    "    return input, target"
   ]
  },
  {
   "cell_type": "code",
   "execution_count": 5,
   "metadata": {},
   "outputs": [
    {
     "output_type": "stream",
     "name": "stdout",
     "text": [
      "Files already downloaded and verified\n",
      "Files already downloaded and verified\n"
     ]
    }
   ],
   "source": [
    "transform = transforms.Compose([\n",
    "     transforms.ToTensor(),\n",
    "     transforms.Normalize((0.5, 0.5, 0.5), (0.5, 0.5, 0.5))])\n",
    "\n",
    "trainset = torchvision.datasets.CIFAR100(root='./data', train=True,\n",
    "                                        download=True, transform=transform)\n",
    "trainloader = torch.utils.data.DataLoader(trainset, batch_size=BATCH,\n",
    "                                          shuffle=True, num_workers=2)\n",
    "\n",
    "test_transform = transforms.Compose([\n",
    "     transforms.ToTensor(),\n",
    "     transforms.Normalize((0.5, 0.5, 0.5), (0.5, 0.5, 0.5))])\n",
    "\n",
    "testset = torchvision.datasets.CIFAR100(root='./data', train=False,\n",
    "                                       download=True, transform=test_transform)\n",
    "testloader = torch.utils.data.DataLoader(testset, batch_size=BATCH,\n",
    "                                         shuffle=False, num_workers=2)"
   ]
  },
  {
   "cell_type": "code",
   "execution_count": 6,
   "metadata": {},
   "outputs": [
    {
     "output_type": "stream",
     "name": "stderr",
     "text": [
      "Using cache found in C:\\Users\\li/.cache\\torch\\hub\\pytorch_vision_v0.6.0\n"
     ]
    }
   ],
   "source": [
    "net = torch.hub.load('pytorch/vision:v0.6.0', 'resnet34', pretrained=False).cuda()"
   ]
  },
  {
   "cell_type": "code",
   "execution_count": 7,
   "metadata": {},
   "outputs": [],
   "source": [
    "criterion = nn.CrossEntropyLoss()\n",
    "optimizer = optim.SGD(net.parameters(), lr=0.01, momentum=0.9)\n",
    "scheduler = optim.lr_scheduler.StepLR(optimizer, step_size=50, gamma=0.1)"
   ]
  },
  {
   "cell_type": "code",
   "execution_count": 8,
   "metadata": {},
   "outputs": [
    {
     "output_type": "stream",
     "name": "stdout",
     "text": [
      "50000/50000: [===============================>] - ETA 9.3s\n",
      "[1] loss: 0.229\n",
      "Accuracy of the network on the 10000 test images: 9 %\n",
      "50000/50000: [===============================>] - ETA 1.4s\n",
      "[2] loss: 0.185\n",
      "Accuracy of the network on the 10000 test images: 13 %\n",
      "50000/50000: [===============================>] - ETA 1.4s\n",
      "[3] loss: 0.176\n",
      "Accuracy of the network on the 10000 test images: 17 %\n",
      "50000/50000: [===============================>] - ETA 1.4s\n",
      "[4] loss: 0.168\n",
      "Accuracy of the network on the 10000 test images: 20 %\n",
      "50000/50000: [===============================>] - ETA 1.4s\n",
      "[5] loss: 0.158\n",
      "Accuracy of the network on the 10000 test images: 22 %\n",
      "50000/50000: [===============================>] - ETA 1.5s\n",
      "[6] loss: 0.152\n",
      "Accuracy of the network on the 10000 test images: 24 %\n",
      "50000/50000: [===============================>] - ETA 1.3s\n",
      "[7] loss: 0.151\n",
      "Accuracy of the network on the 10000 test images: 25 %\n",
      "50000/50000: [===============================>] - ETA 1.4s\n",
      "[8] loss: 0.145\n",
      "Accuracy of the network on the 10000 test images: 25 %\n",
      "50000/50000: [===============================>] - ETA 1.4s\n",
      "[9] loss: 0.143\n",
      "Accuracy of the network on the 10000 test images: 27 %\n",
      "50000/50000: [===============================>] - ETA 1.4s\n",
      "[10] loss: 0.141\n",
      "Accuracy of the network on the 10000 test images: 29 %\n",
      "50000/50000: [===============================>] - ETA 1.4s\n",
      "[11] loss: 0.136\n",
      "Accuracy of the network on the 10000 test images: 27 %\n",
      "50000/50000: [===============================>] - ETA 1.4s\n",
      "[12] loss: 0.136\n",
      "Accuracy of the network on the 10000 test images: 29 %\n",
      "50000/50000: [===============================>] - ETA 1.4s\n",
      "[13] loss: 0.130\n",
      "Accuracy of the network on the 10000 test images: 30 %\n",
      "50000/50000: [===============================>] - ETA 1.3s\n",
      "[14] loss: 0.125\n",
      "Accuracy of the network on the 10000 test images: 31 %\n",
      "50000/50000: [===============================>] - ETA 1.3s\n",
      "[15] loss: 0.125\n",
      "Accuracy of the network on the 10000 test images: 32 %\n",
      "50000/50000: [===============================>] - ETA 1.3s\n",
      "[16] loss: 0.120\n",
      "Accuracy of the network on the 10000 test images: 33 %\n",
      "50000/50000: [===============================>] - ETA 1.3s\n",
      "[17] loss: 0.125\n",
      "Accuracy of the network on the 10000 test images: 33 %\n",
      "50000/50000: [===============================>] - ETA 1.3s\n",
      "[18] loss: 0.115\n",
      "Accuracy of the network on the 10000 test images: 34 %\n",
      "50000/50000: [===============================>] - ETA 1.4s\n",
      "[19] loss: 0.115\n",
      "Accuracy of the network on the 10000 test images: 34 %\n",
      "50000/50000: [===============================>] - ETA 1.3s\n",
      "[20] loss: 0.116\n",
      "Accuracy of the network on the 10000 test images: 34 %\n",
      "50000/50000: [===============================>] - ETA 1.3s\n",
      "[21] loss: 0.117\n",
      "Accuracy of the network on the 10000 test images: 35 %\n",
      "50000/50000: [===============================>] - ETA 1.3s\n",
      "[22] loss: 0.106\n",
      "Accuracy of the network on the 10000 test images: 36 %\n",
      "50000/50000: [===============================>] - ETA 1.3s\n",
      "[23] loss: 0.108\n",
      "Accuracy of the network on the 10000 test images: 37 %\n",
      "50000/50000: [===============================>] - ETA 1.4s\n",
      "[24] loss: 0.107\n",
      "Accuracy of the network on the 10000 test images: 36 %\n",
      "50000/50000: [===============================>] - ETA 1.4s\n",
      "[25] loss: 0.107\n",
      "Accuracy of the network on the 10000 test images: 37 %\n",
      "50000/50000: [===============================>] - ETA 1.4s\n",
      "[26] loss: 0.101\n",
      "Accuracy of the network on the 10000 test images: 36 %\n",
      "50000/50000: [===============================>] - ETA 1.4s\n",
      "[27] loss: 0.100\n",
      "Accuracy of the network on the 10000 test images: 37 %\n",
      "50000/50000: [===============================>] - ETA 1.5s\n",
      "[28] loss: 0.095\n",
      "Accuracy of the network on the 10000 test images: 37 %\n",
      "50000/50000: [===============================>] - ETA 1.5s\n",
      "[29] loss: 0.092\n",
      "Accuracy of the network on the 10000 test images: 38 %\n",
      "50000/50000: [===============================>] - ETA 1.4s\n",
      "[30] loss: 0.093\n",
      "Accuracy of the network on the 10000 test images: 37 %\n"
     ]
    }
   ],
   "source": [
    "for epoch in range(EPOCH):\n",
    "    \n",
    "    ################\n",
    "    ### Training ###\n",
    "    ################\n",
    "    running_loss = 0.0\n",
    "    for i, data in enumerate(Bar(trainloader)):\n",
    "        data = cutout(data)\n",
    "        inputs, labels = data[0].cuda(), data[1]\n",
    "\n",
    "        optimizer.zero_grad()\n",
    "\n",
    "        outputs = net(inputs)\n",
    "\n",
    "        target = labels.cuda()\n",
    "        loss = criterion(outputs, target)\n",
    "        loss.backward()\n",
    "        optimizer.step()\n",
    "\n",
    "        running_loss += loss.item()\n",
    "\n",
    "    print('[%d] loss: %.3f' %\n",
    "          (epoch + 1, running_loss / 50000 * i))\n",
    "    writer.add_scalar(\"loss\", running_loss / 50000 * i, epoch)\n",
    "    running_loss = 0.0\n",
    "\n",
    "\n",
    "    ################\n",
    "    ### Testing  ###\n",
    "    ################\n",
    "    correct = 0\n",
    "    total = 0\n",
    "    with torch.no_grad():\n",
    "        for data in testloader:\n",
    "            images, labels = data[0].cuda(), data[1].cuda()\n",
    "            outputs = net(images)\n",
    "            _, predicted = torch.max(outputs.data, 1)\n",
    "            total += labels.size(0)\n",
    "            correct += (predicted == labels).sum().item()\n",
    "\n",
    "    print('Accuracy of the network on the 10000 test images: %d %%' % (\n",
    "        100 * correct / total))\n",
    "    writer.add_scalar(\"test_accuracy\", 100 * correct / total, epoch)\n",
    "\n",
    "    torch.save(net.state_dict(), PATH + '/model_latest.h5')\n",
    "    scheduler.step()"
   ]
  },
  {
   "cell_type": "code",
   "execution_count": 9,
   "metadata": {},
   "outputs": [],
   "source": [
    "torch.save(net.state_dict(), PATH + '/resnet34-model.h5')"
   ]
  },
  {
   "cell_type": "code",
   "execution_count": 10,
   "metadata": {},
   "outputs": [
    {
     "output_type": "stream",
     "name": "stdout",
     "text": [
      "Accuracy of the network on the 10000 test images: 37.970 %\n"
     ]
    }
   ],
   "source": [
    "correct = 0\n",
    "total = 0\n",
    "with torch.no_grad():\n",
    "    for data in testloader:\n",
    "        images, labels = data[0].cuda(), data[1].cuda()\n",
    "        outputs = net(images)\n",
    "        _, predicted = torch.max(outputs.data, 1)\n",
    "        total += labels.size(0)\n",
    "        correct += (predicted == labels).sum().item()\n",
    "\n",
    "print('Accuracy of the network on the 10000 test images: %.3f %%' % (\n",
    "    100 * correct / total))"
   ]
  }
 ]
}